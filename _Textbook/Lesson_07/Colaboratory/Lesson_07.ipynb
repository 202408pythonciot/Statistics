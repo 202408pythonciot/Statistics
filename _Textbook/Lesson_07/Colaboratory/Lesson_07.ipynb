{
  "nbformat": 4,
  "nbformat_minor": 0,
  "metadata": {
    "colab": {
      "provenance": []
    },
    "kernelspec": {
      "name": "python3",
      "display_name": "Python 3"
    },
    "language_info": {
      "name": "python"
    }
  },
  "cells": [
    {
      "cell_type": "markdown",
      "source": [
        "# 第7章 偏相関\n",
        "\n",
        "\n",
        "---\n",
        "[Google Colaboratoryで開く](https://colab.research.google.com/github/202408pythonciot/Statistics/blob/main/_Textbook/Lesson_07/Colaboratory/Lesson_07.ipynb)\n",
        "\n",
        "<a target=\"_blank\" href=\"https://colab.research.google.com/github/202408pythonciot/Statistics/blob/main/_Textbook/Lesson_07/Colaboratory/Lesson_07.ipynb\">\n",
        "  <img src=\"https://colab.research.google.com/assets/colab-badge.svg\" alt=\"Open In Colab\"/>\n",
        "</a>\n",
        "\n",
        "---\n",
        "\n",
        "この章では，最低気温との間にもアイスコーヒーの売上個数のデータと相関関係があるのかを調べます。\n"
      ],
      "metadata": {
        "id": "dpvuckGUP1Wl"
      }
    },
    {
      "cell_type": "markdown",
      "source": [
        "## 事前準備"
      ],
      "metadata": {
        "id": "b8MCUWyWtp7W"
      }
    },
    {
      "cell_type": "code",
      "source": [
        "# matplotlibの日本語化\n",
        "!pip install japanize-matplotlib\n",
        "\n",
        "# pandas matplotlibのライブラリのインポート\n",
        "import pandas as pd\n",
        "import matplotlib.pyplot as plt\n",
        "import japanize_matplotlib\n",
        "import numpy as np\n",
        "\n",
        "# アイスコーヒーの売上データをダウンロードをダウンロード\n",
        "!wget https://raw.githubusercontent.com/202408pythonciot/Statistics/refs/heads/main/_Textbook/Lesson_07/Sample_Data/sales_iced_coffee.csv -O ./sales_iced_coffee.csv\n"
      ],
      "metadata": {
        "colab": {
          "base_uri": "https://localhost:8080/"
        },
        "collapsed": true,
        "id": "slX3LBw2P9T7",
        "outputId": "49f89028-4d1c-46ca-8548-6ca168a424cf"
      },
      "execution_count": 1,
      "outputs": [
        {
          "output_type": "stream",
          "name": "stdout",
          "text": [
            "Collecting japanize-matplotlib\n",
            "  Downloading japanize-matplotlib-1.1.3.tar.gz (4.1 MB)\n",
            "\u001b[2K     \u001b[90m━━━━━━━━━━━━━━━━━━━━━━━━━━━━━━━━━━━━━━━━\u001b[0m \u001b[32m4.1/4.1 MB\u001b[0m \u001b[31m21.5 MB/s\u001b[0m eta \u001b[36m0:00:00\u001b[0m\n",
            "\u001b[?25h  Preparing metadata (setup.py) ... \u001b[?25l\u001b[?25hdone\n",
            "Requirement already satisfied: matplotlib in /usr/local/lib/python3.10/dist-packages (from japanize-matplotlib) (3.7.1)\n",
            "Requirement already satisfied: contourpy>=1.0.1 in /usr/local/lib/python3.10/dist-packages (from matplotlib->japanize-matplotlib) (1.3.0)\n",
            "Requirement already satisfied: cycler>=0.10 in /usr/local/lib/python3.10/dist-packages (from matplotlib->japanize-matplotlib) (0.12.1)\n",
            "Requirement already satisfied: fonttools>=4.22.0 in /usr/local/lib/python3.10/dist-packages (from matplotlib->japanize-matplotlib) (4.54.1)\n",
            "Requirement already satisfied: kiwisolver>=1.0.1 in /usr/local/lib/python3.10/dist-packages (from matplotlib->japanize-matplotlib) (1.4.7)\n",
            "Requirement already satisfied: numpy>=1.20 in /usr/local/lib/python3.10/dist-packages (from matplotlib->japanize-matplotlib) (1.26.4)\n",
            "Requirement already satisfied: packaging>=20.0 in /usr/local/lib/python3.10/dist-packages (from matplotlib->japanize-matplotlib) (24.1)\n",
            "Requirement already satisfied: pillow>=6.2.0 in /usr/local/lib/python3.10/dist-packages (from matplotlib->japanize-matplotlib) (10.4.0)\n",
            "Requirement already satisfied: pyparsing>=2.3.1 in /usr/local/lib/python3.10/dist-packages (from matplotlib->japanize-matplotlib) (3.2.0)\n",
            "Requirement already satisfied: python-dateutil>=2.7 in /usr/local/lib/python3.10/dist-packages (from matplotlib->japanize-matplotlib) (2.8.2)\n",
            "Requirement already satisfied: six>=1.5 in /usr/local/lib/python3.10/dist-packages (from python-dateutil>=2.7->matplotlib->japanize-matplotlib) (1.16.0)\n",
            "Building wheels for collected packages: japanize-matplotlib\n",
            "  Building wheel for japanize-matplotlib (setup.py) ... \u001b[?25l\u001b[?25hdone\n",
            "  Created wheel for japanize-matplotlib: filename=japanize_matplotlib-1.1.3-py3-none-any.whl size=4120257 sha256=442712a4dfb72a724b8dc7d64716b7b5c7cf97248ecc81c817d3f9db64f9bddd\n",
            "  Stored in directory: /root/.cache/pip/wheels/61/7a/6b/df1f79be9c59862525070e157e62b08eab8ece27c1b68fbb94\n",
            "Successfully built japanize-matplotlib\n",
            "Installing collected packages: japanize-matplotlib\n",
            "Successfully installed japanize-matplotlib-1.1.3\n",
            "--2024-10-21 13:24:00--  https://raw.githubusercontent.com/202408pythonciot/Statistics/refs/heads/main/_Textbook/Lesson_07/Sample_Data/sales_iced_coffee.csv\n",
            "Resolving raw.githubusercontent.com (raw.githubusercontent.com)... 185.199.108.133, 185.199.109.133, 185.199.110.133, ...\n",
            "Connecting to raw.githubusercontent.com (raw.githubusercontent.com)|185.199.108.133|:443... connected.\n",
            "HTTP request sent, awaiting response... 200 OK\n",
            "Length: 306 [text/plain]\n",
            "Saving to: ‘./sales_iced_coffee.csv’\n",
            "\n",
            "./sales_iced_coffee 100%[===================>]     306  --.-KB/s    in 0s      \n",
            "\n",
            "2024-10-21 13:24:01 (13.0 MB/s) - ‘./sales_iced_coffee.csv’ saved [306/306]\n",
            "\n"
          ]
        }
      ]
    },
    {
      "cell_type": "markdown",
      "source": [
        "## 散布図\n",
        "アイスコーヒーの売上個数と最低気温との散布図"
      ],
      "metadata": {
        "id": "rL7R_BTratug"
      }
    },
    {
      "cell_type": "code",
      "source": [
        "sales_iced_coffee = pd.read_csv(\"./sales_iced_coffee.csv\")\n",
        "\n",
        "with pd.option_context('display.max_rows',6):\n",
        "    print(sales_iced_coffee)"
      ],
      "metadata": {
        "colab": {
          "base_uri": "https://localhost:8080/"
        },
        "id": "nZSB8IiRa4p_",
        "outputId": "0c5e4614-1860-4cfc-ec80-0cf7f35a9f7e"
      },
      "execution_count": 2,
      "outputs": [
        {
          "output_type": "stream",
          "name": "stdout",
          "text": [
            "    最高気温  最低気温(X)  売上個数(Y)\n",
            "0   38.5     28.8      354\n",
            "1   38.0     29.3      355\n",
            "2   37.6     26.5      346\n",
            "..   ...      ...      ...\n",
            "15  38.3     28.3      360\n",
            "16  37.6     26.9      323\n",
            "17  37.7     28.2      319\n",
            "\n",
            "[18 rows x 3 columns]\n"
          ]
        }
      ]
    },
    {
      "cell_type": "markdown",
      "source": [],
      "metadata": {
        "id": "EWlXq6ZYbuZ-"
      }
    },
    {
      "cell_type": "code",
      "source": [
        "plt.scatter(sales_iced_coffee['最低気温(X)'], sales_iced_coffee['売上個数(Y)'])\n",
        "plt.title('ブルーコーヒー店 2020年8月度 アイスコーヒー売上個数')\n",
        "plt.xlabel('最低気温')\n",
        "plt.ylabel('売上個数')\n",
        "plt.xlim([26, 30])\n",
        "plt.ylim([0,500])\n",
        "plt.grid()\n",
        "plt.show()\n"
      ],
      "metadata": {
        "colab": {
          "base_uri": "https://localhost:8080/",
          "height": 469
        },
        "id": "vPqm2zWdbtlX",
        "outputId": "edf8c53d-d024-4b2b-9de4-90a4372a289f"
      },
      "execution_count": 3,
      "outputs": [
        {
          "output_type": "display_data",
          "data": {
            "text/plain": [
              "<Figure size 640x480 with 1 Axes>"
            ],
            "image/png": "[encoded data removed]"
          },
          "metadata": {}
        }
      ]
    },
    {
      "cell_type": "markdown",
      "source": [
        "## 最低気温$X$と売上個数$Y$の相関係数$\\rho_{XY}$\n",
        "\n",
        "\n"
      ],
      "metadata": {
        "id": "_RCJXDTafYh_"
      }
    },
    {
      "cell_type": "code",
      "source": [
        "diff_x = []\n",
        "diff_y = []\n",
        "\n",
        "# 偏差xを求める\n",
        "for tmp in sales_iced_coffee['最低気温(X)']:\n",
        "  diff_x.append(tmp - sales_iced_coffee['最低気温(X)'].mean())\n",
        "\n",
        "# 偏差yを求める\n",
        "for tmp in sales_iced_coffee['売上個数(Y)']:\n",
        "  diff_y.append(tmp - sales_iced_coffee['売上個数(Y)'].mean())\n",
        "\n",
        "# 偏差積を求める\n",
        "m_xy = list(map(lambda x, y: x * y, diff_x, diff_y))\n",
        "\n",
        "# 偏差積の平均を求める\n",
        "m_xy_mean = sum(m_xy)/len(m_xy)\n",
        "\n",
        "# 相関係数を求める\n",
        "r_xy = m_xy_mean/sales_iced_coffee['最低気温(X)'].std(ddof=0)/sales_iced_coffee['売上個数(Y)'].std(ddof=0)\n",
        "print('最低気温(X)と売上個数(Y)の相関係数', r_xy)"
      ],
      "metadata": {
        "colab": {
          "base_uri": "https://localhost:8080/"
        },
        "id": "p8-qqCX7fnzv",
        "outputId": "b7ce3a7c-77ba-4a79-e775-b14b077ab675"
      },
      "execution_count": 4,
      "outputs": [
        {
          "output_type": "stream",
          "name": "stdout",
          "text": [
            "最低気温(X)と売上個数(Y)の相関係数 0.3343580090683689\n"
          ]
        }
      ]
    },
    {
      "cell_type": "markdown",
      "source": [
        "## 最高気温$Z$と売上個数$Y$の相関係数$\\rho_{YZ}$\n",
        "\n"
      ],
      "metadata": {
        "id": "GGyJKYPSge47"
      }
    },
    {
      "cell_type": "code",
      "source": [
        "diff_z = []\n",
        "\n",
        "# 偏差zを求める\n",
        "for tmp in sales_iced_coffee['最高気温']:\n",
        "  diff_z.append(tmp - sales_iced_coffee['最高気温'].mean())\n",
        "\n",
        "# 偏差積を求める\n",
        "m_yz = list(map(lambda z, y: z * y, diff_z, diff_y))\n",
        "\n",
        "# 偏差積の平均を求める\n",
        "m_yz_mean = sum(m_yz)/len(m_yz)\n",
        "\n",
        "# 相関係数を求める\n",
        "r_yz = m_yz_mean/sales_iced_coffee['最高気温'].std(ddof=0)/sales_iced_coffee['売上個数(Y)'].std(ddof=0)\n",
        "print('最高気温(Z)と売上個数(Y)の相関係数', r_yz)"
      ],
      "metadata": {
        "colab": {
          "base_uri": "https://localhost:8080/"
        },
        "outputId": "7bbbd58e-db74-436d-dc25-7ef50421e58c",
        "id": "IYT4gM0AggpS"
      },
      "execution_count": 5,
      "outputs": [
        {
          "output_type": "stream",
          "name": "stdout",
          "text": [
            "最高気温(Z)と売上個数(Y)の相関係数 0.9146158088736411\n"
          ]
        }
      ]
    },
    {
      "cell_type": "markdown",
      "source": [
        "## 最高気温$Z$と最低気温$X$の相関係数$\\rho_{ZX}$\n",
        "\n",
        "\n",
        "\n",
        "\n"
      ],
      "metadata": {
        "id": "Fa-BP4eUhMBX"
      }
    },
    {
      "cell_type": "code",
      "source": [
        "# 偏差積を求める\n",
        "m_zx = list(map(lambda x, z: x * z, diff_x, diff_z))\n",
        "\n",
        "# 偏差積の平均を求める\n",
        "m_zx_mean = sum(m_zx)/len(m_zx)\n",
        "\n",
        "# 相関係数を求める\n",
        "r_zx = m_zx_mean/sales_iced_coffee['最高気温'].std(ddof=0)/sales_iced_coffee['最低気温(X)'].std(ddof=0)\n",
        "print('最高気温(Z)と最低気温(X)の相関係数', r_zx)"
      ],
      "metadata": {
        "colab": {
          "base_uri": "https://localhost:8080/"
        },
        "outputId": "68894a81-982c-401c-8e66-058d42cfd79f",
        "id": "DXAivgDxha7e"
      },
      "execution_count": 6,
      "outputs": [
        {
          "output_type": "stream",
          "name": "stdout",
          "text": [
            "最高気温(Z)と最低気温(X)の相関係数 0.34010263405046315\n"
          ]
        }
      ]
    },
    {
      "cell_type": "markdown",
      "source": [
        "## 偏相関係数\n",
        "\n",
        "説明変数が2以上あるとき，注目する変数$x_i$以外のすべての変数を固定したときの$x_i$と$y_i$の相関係数のことです。\n",
        "\n",
        "一般に偏相関係数$\\rho_{ij, rest}$と書きます。ここで$rest$は，値を固定する変数のことです。\n",
        "\n",
        "例えば，最高気温$Z$の影響を除外した編相関係数$\\rho_{XY, Z}$は以下の式で求めることができます。\n",
        "\n",
        "$$\n",
        "\\rho_{XY, Z}\n",
        "= \\frac{\\rho_{XY} - \\rho_{ZX} \\rho_{YZ}}\n",
        "{  \\sqrt{1 - \\rho_{YZ}^2} \\sqrt{1 - \\rho_{ZX}^2} }\n",
        "$$\n"
      ],
      "metadata": {
        "id": "UB-R41fUkmQ5"
      }
    },
    {
      "cell_type": "markdown",
      "source": [
        "## 最高気温$Z$の影響を除外した最低気温$X$と売上個数$X$の偏相関係数$\\rho_{XY,Z}$"
      ],
      "metadata": {
        "id": "lNvX1-NSI94E"
      }
    },
    {
      "cell_type": "code",
      "source": [
        "r_xy_z = (r_xy - r_zx * r_yz)/((1 - r_yz**2)**0.5 * (1 - r_zx**2)**0.5)\n",
        "print('最低気温(X)と売上個数(Y)の偏相関係数', r_xy_z)"
      ],
      "metadata": {
        "colab": {
          "base_uri": "https://localhost:8080/"
        },
        "id": "Jz6XR6XDJNiD",
        "outputId": "b79aa653-708f-46ef-a3c4-c7023832222e"
      },
      "execution_count": 7,
      "outputs": [
        {
          "output_type": "stream",
          "name": "stdout",
          "text": [
            "最低気温(X)と売上個数(Y)の偏相関係数 0.06126628121607625\n"
          ]
        }
      ]
    },
    {
      "cell_type": "code",
      "source": [
        "r_yz_x = (r_yz - r_xy * r_zx)/((1 - r_zx**2)**0.5 * (1 - r_xy**2)**0.5)\n",
        "print('最高気温(Z)と売上個数(Y)の偏相関係数', r_yz_x)"
      ],
      "metadata": {
        "colab": {
          "base_uri": "https://localhost:8080/"
        },
        "outputId": "00a1741f-0a9c-4d75-d926-24382dc8741c",
        "id": "10asrU3rKSFC"
      },
      "execution_count": 8,
      "outputs": [
        {
          "output_type": "stream",
          "name": "stdout",
          "text": [
            "最高気温(Z)と売上個数(Y)の偏相関係数 0.903679440736654\n"
          ]
        }
      ]
    },
    {
      "cell_type": "code",
      "source": [
        "r_zx_y = (r_zx - r_xy * r_yz)/((1 - r_xy**2)**0.5 * (1 - r_yz**2)**0.5)\n",
        "print('最高気温(Z)と最低気温(Z)の偏相関係数', r_zx_y)"
      ],
      "metadata": {
        "colab": {
          "base_uri": "https://localhost:8080/"
        },
        "outputId": "f6a5ae83-28b6-4a79-a750-9e77f8a4e38f",
        "id": "UKBR_ZhuK16I"
      },
      "execution_count": 9,
      "outputs": [
        {
          "output_type": "stream",
          "name": "stdout",
          "text": [
            "最高気温(Z)と最低気温(Z)の偏相関係数 0.08999655483879691\n"
          ]
        }
      ]
    },
    {
      "cell_type": "markdown",
      "source": [
        "## ※偏相関係数を計算する自作関数\n",
        "pandasには偏相関係数を求めるメソッドが用意されていないので，行列を使った偏相関係数をもとめる関数を用意し，試してみる。"
      ],
      "metadata": {
        "id": "VTEWjXnIzxO7"
      }
    },
    {
      "cell_type": "code",
      "source": [
        "def pd_partial_corr(df):\n",
        "  # df の相関行列を計算する\n",
        "  corr_matrix = df.corr()\n",
        "  # 相関行列の逆行列を計算する\n",
        "  corr_matrix_inv = np.linalg.inv(corr_matrix)\n",
        "  # 相関行列の逆行列の対角要素の平方根の逆数を対角要素とする行列 D を作成する\n",
        "  D = np.diag(np.power(np.diag(corr_matrix_inv), -0.5))\n",
        "  # 偏相関行列を計算する\n",
        "  df_pcorr = -np.dot(np.dot(D, corr_matrix_inv), D) + 2 * np.eye(corr_matrix.shape[0])\n",
        "  # DataFrameに詰め直す\n",
        "  return pd.DataFrame(\n",
        "      df_pcorr,\n",
        "      columns = corr_matrix.columns,\n",
        "      index = corr_matrix.index\n",
        "  )\n",
        "\n",
        "pd_partial_corr( sales_iced_coffee)"
      ],
      "metadata": {
        "colab": {
          "base_uri": "https://localhost:8080/",
          "height": 143
        },
        "id": "GcTJNk7n0Huq",
        "outputId": "69cd5fd4-cc4f-40ee-9df7-202afa012d68"
      },
      "execution_count": 10,
      "outputs": [
        {
          "output_type": "execute_result",
          "data": {
            "text/plain": [
              "             最高気温   最低気温(X)   売上個数(Y)\n",
              "最高気温     1.000000  0.089997  0.903679\n",
              "最低気温(X)  0.089997  1.000000  0.061266\n",
              "売上個数(Y)  0.903679  0.061266  1.000000"
            ],
            "text/html": [
              "\n",
              "  <div id=\"df-eafe1185-5e49-4ee0-bb57-757e96a5d218\" class=\"colab-df-container\">\n",
              "    <div>\n",
              "<style scoped>\n",
              "    .dataframe tbody tr th:only-of-type {\n",
              "        vertical-align: middle;\n",
              "    }\n",
              "\n",
              "    .dataframe tbody tr th {\n",
              "        vertical-align: top;\n",
              "    }\n",
              "\n",
              "    .dataframe thead th {\n",
              "        text-align: right;\n",
              "    }\n",
              "</style>\n",
              "<table border=\"1\" class=\"dataframe\">\n",
              "  <thead>\n",
              "    <tr style=\"text-align: right;\">\n",
              "      <th></th>\n",
              "      <th>最高気温</th>\n",
              "      <th>最低気温(X)</th>\n",
              "      <th>売上個数(Y)</th>\n",
              "    </tr>\n",
              "  </thead>\n",
              "  <tbody>\n",
              "    <tr>\n",
              "      <th>最高気温</th>\n",
              "      <td>1.000000</td>\n",
              "      <td>0.089997</td>\n",
              "      <td>0.903679</td>\n",
              "    </tr>\n",
              "    <tr>\n",
              "      <th>最低気温(X)</th>\n",
              "      <td>0.089997</td>\n",
              "      <td>1.000000</td>\n",
              "      <td>0.061266</td>\n",
              "    </tr>\n",
              "    <tr>\n",
              "      <th>売上個数(Y)</th>\n",
              "      <td>0.903679</td>\n",
              "      <td>0.061266</td>\n",
              "      <td>1.000000</td>\n",
              "    </tr>\n",
              "  </tbody>\n",
              "</table>\n",
              "</div>\n",
              "    <div class=\"colab-df-buttons\">\n",
              "\n",
              "  <div class=\"colab-df-container\">\n",
              "    <button class=\"colab-df-convert\" onclick=\"convertToInteractive('df-eafe1185-5e49-4ee0-bb57-757e96a5d218')\"\n",
              "            title=\"Convert this dataframe to an interactive table.\"\n",
              "            style=\"display:none;\">\n",
              "\n",
              "  <svg xmlns=\"http://www.w3.org/2000/svg\" height=\"24px\" viewBox=\"0 -960 960 960\">\n",
              "    <path d=\"M120-120v-720h720v720H120Zm60-500h600v-160H180v160Zm220 220h160v-160H400v160Zm0 220h160v-160H400v160ZM180-400h160v-160H180v160Zm440 0h160v-160H620v160ZM180-180h160v-160H180v160Zm440 0h160v-160H620v160Z\"/>\n",
              "  </svg>\n",
              "    </button>\n",
              "\n",
              "  <style>\n",
              "    .colab-df-container {\n",
              "      display:flex;\n",
              "      gap: 12px;\n",
              "    }\n",
              "\n",
              "    .colab-df-convert {\n",
              "      background-color: #E8F0FE;\n",
              "      border: none;\n",
              "      border-radius: 50%;\n",
              "      cursor: pointer;\n",
              "      display: none;\n",
              "      fill: #1967D2;\n",
              "      height: 32px;\n",
              "      padding: 0 0 0 0;\n",
              "      width: 32px;\n",
              "    }\n",
              "\n",
              "    .colab-df-convert:hover {\n",
              "      background-color: #E2EBFA;\n",
              "      box-shadow: 0px 1px 2px rgba(60, 64, 67, 0.3), 0px 1px 3px 1px rgba(60, 64, 67, 0.15);\n",
              "      fill: #174EA6;\n",
              "    }\n",
              "\n",
              "    .colab-df-buttons div {\n",
              "      margin-bottom: 4px;\n",
              "    }\n",
              "\n",
              "    [theme=dark] .colab-df-convert {\n",
              "      background-color: #3B4455;\n",
              "      fill: #D2E3FC;\n",
              "    }\n",
              "\n",
              "    [theme=dark] .colab-df-convert:hover {\n",
              "      background-color: #434B5C;\n",
              "      box-shadow: 0px 1px 3px 1px rgba(0, 0, 0, 0.15);\n",
              "      filter: drop-shadow(0px 1px 2px rgba(0, 0, 0, 0.3));\n",
              "      fill: #FFFFFF;\n",
              "    }\n",
              "  </style>\n",
              "\n",
              "    <script>\n",
              "      const buttonEl =\n",
              "        document.querySelector('#df-eafe1185-5e49-4ee0-bb57-757e96a5d218 button.colab-df-convert');\n",
              "      buttonEl.style.display =\n",
              "        google.colab.kernel.accessAllowed ? 'block' : 'none';\n",
              "\n",
              "      async function convertToInteractive(key) {\n",
              "        const element = document.querySelector('#df-eafe1185-5e49-4ee0-bb57-757e96a5d218');\n",
              "        const dataTable =\n",
              "          await google.colab.kernel.invokeFunction('convertToInteractive',\n",
              "                                                    [key], {});\n",
              "        if (!dataTable) return;\n",
              "\n",
              "        const docLinkHtml = 'Like what you see? Visit the ' +\n",
              "          '<a target=\"_blank\" href=https://colab.research.google.com/notebooks/data_table.ipynb>data table notebook</a>'\n",
              "          + ' to learn more about interactive tables.';\n",
              "        element.innerHTML = '';\n",
              "        dataTable['output_type'] = 'display_data';\n",
              "        await google.colab.output.renderOutput(dataTable, element);\n",
              "        const docLink = document.createElement('div');\n",
              "        docLink.innerHTML = docLinkHtml;\n",
              "        element.appendChild(docLink);\n",
              "      }\n",
              "    </script>\n",
              "  </div>\n",
              "\n",
              "\n",
              "<div id=\"df-2333183d-f9ea-4657-a77e-25f5f814d25e\">\n",
              "  <button class=\"colab-df-quickchart\" onclick=\"quickchart('df-2333183d-f9ea-4657-a77e-25f5f814d25e')\"\n",
              "            title=\"Suggest charts\"\n",
              "            style=\"display:none;\">\n",
              "\n",
              "<svg xmlns=\"http://www.w3.org/2000/svg\" height=\"24px\"viewBox=\"0 0 24 24\"\n",
              "     width=\"24px\">\n",
              "    <g>\n",
              "        <path d=\"M19 3H5c-1.1 0-2 .9-2 2v14c0 1.1.9 2 2 2h14c1.1 0 2-.9 2-2V5c0-1.1-.9-2-2-2zM9 17H7v-7h2v7zm4 0h-2V7h2v10zm4 0h-2v-4h2v4z\"/>\n",
              "    </g>\n",
              "</svg>\n",
              "  </button>\n",
              "\n",
              "<style>\n",
              "  .colab-df-quickchart {\n",
              "      --bg-color: #E8F0FE;\n",
              "      --fill-color: #1967D2;\n",
              "      --hover-bg-color: #E2EBFA;\n",
              "      --hover-fill-color: #174EA6;\n",
              "      --disabled-fill-color: #AAA;\n",
              "      --disabled-bg-color: #DDD;\n",
              "  }\n",
              "\n",
              "  [theme=dark] .colab-df-quickchart {\n",
              "      --bg-color: #3B4455;\n",
              "      --fill-color: #D2E3FC;\n",
              "      --hover-bg-color: #434B5C;\n",
              "      --hover-fill-color: #FFFFFF;\n",
              "      --disabled-bg-color: #3B4455;\n",
              "      --disabled-fill-color: #666;\n",
              "  }\n",
              "\n",
              "  .colab-df-quickchart {\n",
              "    background-color: var(--bg-color);\n",
              "    border: none;\n",
              "    border-radius: 50%;\n",
              "    cursor: pointer;\n",
              "    display: none;\n",
              "    fill: var(--fill-color);\n",
              "    height: 32px;\n",
              "    padding: 0;\n",
              "    width: 32px;\n",
              "  }\n",
              "\n",
              "  .colab-df-quickchart:hover {\n",
              "    background-color: var(--hover-bg-color);\n",
              "    box-shadow: 0 1px 2px rgba(60, 64, 67, 0.3), 0 1px 3px 1px rgba(60, 64, 67, 0.15);\n",
              "    fill: var(--button-hover-fill-color);\n",
              "  }\n",
              "\n",
              "  .colab-df-quickchart-complete:disabled,\n",
              "  .colab-df-quickchart-complete:disabled:hover {\n",
              "    background-color: var(--disabled-bg-color);\n",
              "    fill: var(--disabled-fill-color);\n",
              "    box-shadow: none;\n",
              "  }\n",
              "\n",
              "  .colab-df-spinner {\n",
              "    border: 2px solid var(--fill-color);\n",
              "    border-color: transparent;\n",
              "    border-bottom-color: var(--fill-color);\n",
              "    animation:\n",
              "      spin 1s steps(1) infinite;\n",
              "  }\n",
              "\n",
              "  @keyframes spin {\n",
              "    0% {\n",
              "      border-color: transparent;\n",
              "      border-bottom-color: var(--fill-color);\n",
              "      border-left-color: var(--fill-color);\n",
              "    }\n",
              "    20% {\n",
              "      border-color: transparent;\n",
              "      border-left-color: var(--fill-color);\n",
              "      border-top-color: var(--fill-color);\n",
              "    }\n",
              "    30% {\n",
              "      border-color: transparent;\n",
              "      border-left-color: var(--fill-color);\n",
              "      border-top-color: var(--fill-color);\n",
              "      border-right-color: var(--fill-color);\n",
              "    }\n",
              "    40% {\n",
              "      border-color: transparent;\n",
              "      border-right-color: var(--fill-color);\n",
              "      border-top-color: var(--fill-color);\n",
              "    }\n",
              "    60% {\n",
              "      border-color: transparent;\n",
              "      border-right-color: var(--fill-color);\n",
              "    }\n",
              "    80% {\n",
              "      border-color: transparent;\n",
              "      border-right-color: var(--fill-color);\n",
              "      border-bottom-color: var(--fill-color);\n",
              "    }\n",
              "    90% {\n",
              "      border-color: transparent;\n",
              "      border-bottom-color: var(--fill-color);\n",
              "    }\n",
              "  }\n",
              "</style>\n",
              "\n",
              "  <script>\n",
              "    async function quickchart(key) {\n",
              "      const quickchartButtonEl =\n",
              "        document.querySelector('#' + key + ' button');\n",
              "      quickchartButtonEl.disabled = true;  // To prevent multiple clicks.\n",
              "      quickchartButtonEl.classList.add('colab-df-spinner');\n",
              "      try {\n",
              "        const charts = await google.colab.kernel.invokeFunction(\n",
              "            'suggestCharts', [key], {});\n",
              "      } catch (error) {\n",
              "        console.error('Error during call to suggestCharts:', error);\n",
              "      }\n",
              "      quickchartButtonEl.classList.remove('colab-df-spinner');\n",
              "      quickchartButtonEl.classList.add('colab-df-quickchart-complete');\n",
              "    }\n",
              "    (() => {\n",
              "      let quickchartButtonEl =\n",
              "        document.querySelector('#df-2333183d-f9ea-4657-a77e-25f5f814d25e button');\n",
              "      quickchartButtonEl.style.display =\n",
              "        google.colab.kernel.accessAllowed ? 'block' : 'none';\n",
              "    })();\n",
              "  </script>\n",
              "</div>\n",
              "\n",
              "    </div>\n",
              "  </div>\n"
            ],
            "application/vnd.google.colaboratory.intrinsic+json": {
              "type": "dataframe",
              "summary": "{\n  \"name\": \"pd_partial_corr( sales_iced_coffee)\",\n  \"rows\": 3,\n  \"fields\": [\n    {\n      \"column\": \"\\u6700\\u9ad8\\u6c17\\u6e29\",\n      \"properties\": {\n        \"dtype\": \"number\",\n        \"std\": 0.4999106185351409,\n        \"min\": 0.08999655483879829,\n        \"max\": 1.0,\n        \"num_unique_values\": 3,\n        \"samples\": [\n          1.0,\n          0.08999655483879829,\n          0.9036794407366541\n        ],\n        \"semantic_type\": \"\",\n        \"description\": \"\"\n      }\n    },\n    {\n      \"column\": \"\\u6700\\u4f4e\\u6c17\\u6e29(X)\",\n      \"properties\": {\n        \"dtype\": \"number\",\n        \"std\": 0.5338777471808801,\n        \"min\": 0.06126628121607473,\n        \"max\": 1.0,\n        \"num_unique_values\": 3,\n        \"samples\": [\n          0.0899965548387983,\n          1.0,\n          0.06126628121607473\n        ],\n        \"semantic_type\": \"\",\n        \"description\": \"\"\n      }\n    },\n    {\n      \"column\": \"\\u58f2\\u4e0a\\u500b\\u6570(Y)\",\n      \"properties\": {\n        \"dtype\": \"number\",\n        \"std\": 0.5164233689929459,\n        \"min\": 0.06126628121607474,\n        \"max\": 0.9999999999999998,\n        \"num_unique_values\": 3,\n        \"samples\": [\n          0.9036794407366541,\n          0.06126628121607474,\n          0.9999999999999998\n        ],\n        \"semantic_type\": \"\",\n        \"description\": \"\"\n      }\n    }\n  ]\n}"
            }
          },
          "metadata": {},
          "execution_count": 10
        }
      ]
    }
  ]
}