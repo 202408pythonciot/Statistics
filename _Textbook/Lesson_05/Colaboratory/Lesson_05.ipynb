{
  "nbformat": 4,
  "nbformat_minor": 0,
  "metadata": {
    "colab": {
      "provenance": []
    },
    "kernelspec": {
      "name": "python3",
      "display_name": "Python 3"
    },
    "language_info": {
      "name": "python"
    }
  },
  "cells": [
    {
      "cell_type": "markdown",
      "source": [
        "# 第5章 相関係数\n",
        "\n",
        "\n",
        "---\n",
        "[Google Colaboratoryで開く](https://colab.research.google.com/github/202408pythonciot/Statistics/blob/main/_Textbook/Lesson_05/Colab/Lesson_05.ipynb)\n",
        "\n",
        "<a target=\"_blank\" href=\"https://colab.research.google.com/github/202408pythonciot/Statistics/blob/main/_Textbook/Lesson_05/Colab/Lesson_05.ipynb\">\n",
        "  <img src=\"https://colab.research.google.com/assets/colab-badge.svg\" alt=\"Open In Colab\"/>\n",
        "</a>\n",
        "\n",
        "---\n",
        "\n",
        "ブルーコーヒー店とレッドコーヒー店の8月平日のアイスコーヒーの売上個数の分析を行います。アイスコーヒーの売上個数と最高気温の関係性について相関係数を求めます。\n",
        "\n",
        "---"
      ],
      "metadata": {
        "id": "0w1CkuYVjG6n"
      }
    },
    {
      "cell_type": "markdown",
      "source": [
        "## 事前準備\n",
        "matplotlibの日本語化，pandas matplotlibのライブラリのインポート，サンプルデータのダウンロードを行います。"
      ],
      "metadata": {
        "id": "s9gp7pC7bQCp"
      }
    },
    {
      "cell_type": "code",
      "source": [
        "# matplotlibの日本語化\n",
        "!pip install japanize-matplotlib\n",
        "\n",
        "# pandas matplotlibのライブラリのインポート\n",
        "import pandas as pd\n",
        "import matplotlib.pyplot as plt\n",
        "import japanize_matplotlib\n",
        "\n",
        "# 標本データのダウンロード\n",
        "!wget https://raw.githubusercontent.com/202408pythonciot/Statistics/refs/heads/main/_Textbook/Lesson_05/Sample_Data/blue_coffee_shop.csv -O blue_coffee_shop.csv\n",
        "!wget https://raw.githubusercontent.com/202408pythonciot/Statistics/refs/heads/main/_Textbook/Lesson_05/Sample_Data/red_coffee_shop.csv -O red_coffee_shop.csv\n"
      ],
      "metadata": {
        "id": "slX3LBw2P9T7",
        "colab": {
          "base_uri": "https://localhost:8080/"
        },
        "outputId": "7c67f0b3-8993-4025-c7b7-04aff0867b5e",
        "collapsed": true
      },
      "execution_count": null,
      "outputs": [
        {
          "output_type": "stream",
          "name": "stdout",
          "text": [
            "Collecting japanize-matplotlib\n",
            "  Downloading japanize-matplotlib-1.1.3.tar.gz (4.1 MB)\n",
            "\u001b[2K     \u001b[90m━━━━━━━━━━━━━━━━━━━━━━━━━━━━━━━━━━━━━━━━\u001b[0m \u001b[32m4.1/4.1 MB\u001b[0m \u001b[31m22.5 MB/s\u001b[0m eta \u001b[36m0:00:00\u001b[0m\n",
            "\u001b[?25h  Preparing metadata (setup.py) ... \u001b[?25l\u001b[?25hdone\n",
            "Requirement already satisfied: matplotlib in /usr/local/lib/python3.10/dist-packages (from japanize-matplotlib) (3.7.1)\n",
            "Requirement already satisfied: contourpy>=1.0.1 in /usr/local/lib/python3.10/dist-packages (from matplotlib->japanize-matplotlib) (1.3.0)\n",
            "Requirement already satisfied: cycler>=0.10 in /usr/local/lib/python3.10/dist-packages (from matplotlib->japanize-matplotlib) (0.12.1)\n",
            "Requirement already satisfied: fonttools>=4.22.0 in /usr/local/lib/python3.10/dist-packages (from matplotlib->japanize-matplotlib) (4.54.1)\n",
            "Requirement already satisfied: kiwisolver>=1.0.1 in /usr/local/lib/python3.10/dist-packages (from matplotlib->japanize-matplotlib) (1.4.7)\n",
            "Requirement already satisfied: numpy>=1.20 in /usr/local/lib/python3.10/dist-packages (from matplotlib->japanize-matplotlib) (1.26.4)\n",
            "Requirement already satisfied: packaging>=20.0 in /usr/local/lib/python3.10/dist-packages (from matplotlib->japanize-matplotlib) (24.1)\n",
            "Requirement already satisfied: pillow>=6.2.0 in /usr/local/lib/python3.10/dist-packages (from matplotlib->japanize-matplotlib) (10.4.0)\n",
            "Requirement already satisfied: pyparsing>=2.3.1 in /usr/local/lib/python3.10/dist-packages (from matplotlib->japanize-matplotlib) (3.2.0)\n",
            "Requirement already satisfied: python-dateutil>=2.7 in /usr/local/lib/python3.10/dist-packages (from matplotlib->japanize-matplotlib) (2.8.2)\n",
            "Requirement already satisfied: six>=1.5 in /usr/local/lib/python3.10/dist-packages (from python-dateutil>=2.7->matplotlib->japanize-matplotlib) (1.16.0)\n",
            "Building wheels for collected packages: japanize-matplotlib\n",
            "  Building wheel for japanize-matplotlib (setup.py) ... \u001b[?25l\u001b[?25hdone\n",
            "  Created wheel for japanize-matplotlib: filename=japanize_matplotlib-1.1.3-py3-none-any.whl size=4120257 sha256=79e225b1838aba77e98d17a7322e1574a6b728da5c9e0ccc900d39faf938a89b\n",
            "  Stored in directory: /root/.cache/pip/wheels/61/7a/6b/df1f79be9c59862525070e157e62b08eab8ece27c1b68fbb94\n",
            "Successfully built japanize-matplotlib\n",
            "Installing collected packages: japanize-matplotlib\n",
            "Successfully installed japanize-matplotlib-1.1.3\n",
            "--2024-10-19 11:06:41--  https://raw.githubusercontent.com/202408pythonciot/Statistics/refs/heads/main/_Textbook/Lesson_05/Sample_Data/blue_coffee_shop.csv\n",
            "Resolving raw.githubusercontent.com (raw.githubusercontent.com)... 185.199.109.133, 185.199.110.133, 185.199.108.133, ...\n",
            "Connecting to raw.githubusercontent.com (raw.githubusercontent.com)|185.199.109.133|:443... connected.\n",
            "HTTP request sent, awaiting response... 200 OK\n",
            "Length: 145 [text/plain]\n",
            "Saving to: ‘blue_coffee_shop.csv’\n",
            "\n",
            "blue_coffee_shop.cs 100%[===================>]     145  --.-KB/s    in 0s      \n",
            "\n",
            "2024-10-19 11:06:41 (8.28 MB/s) - ‘blue_coffee_shop.csv’ saved [145/145]\n",
            "\n",
            "--2024-10-19 11:06:41--  https://raw.githubusercontent.com/202408pythonciot/Statistics/refs/heads/main/_Textbook/Lesson_05/Sample_Data/red_coffee_shop.csv\n",
            "Resolving raw.githubusercontent.com (raw.githubusercontent.com)... 185.199.108.133, 185.199.109.133, 185.199.110.133, ...\n",
            "Connecting to raw.githubusercontent.com (raw.githubusercontent.com)|185.199.108.133|:443... connected.\n",
            "HTTP request sent, awaiting response... 200 OK\n",
            "Length: 145 [text/plain]\n",
            "Saving to: ‘red_coffee_shop.csv’\n",
            "\n",
            "red_coffee_shop.csv 100%[===================>]     145  --.-KB/s    in 0s      \n",
            "\n",
            "2024-10-19 11:06:41 (9.15 MB/s) - ‘red_coffee_shop.csv’ saved [145/145]\n",
            "\n"
          ]
        }
      ]
    },
    {
      "cell_type": "markdown",
      "source": [
        "ブルーコーヒー店とレッドコーヒー店の売上個数データをPandasに読み込む"
      ],
      "metadata": {
        "id": "P81__MGskd9p"
      }
    },
    {
      "cell_type": "code",
      "source": [
        "blue_coffee_shop = pd.read_csv(\"./blue_coffee_shop.csv\")\n",
        "red_coffee_shop = pd.read_csv(\"./red_coffee_shop.csv\")"
      ],
      "metadata": {
        "id": "ZYuhTP7Hkef7"
      },
      "execution_count": null,
      "outputs": []
    },
    {
      "cell_type": "markdown",
      "source": [
        "## 散布図の作成"
      ],
      "metadata": {
        "id": "h2lewHTjEDeP"
      }
    },
    {
      "cell_type": "markdown",
      "source": [
        "### ブルーコーヒー店の散布図の作成\n",
        "ブルーコーヒー店のアイスコーヒーの売上個数を横軸に，最高気温を縦軸にとった散布図を作成します。"
      ],
      "metadata": {
        "id": "Vy4ngk3Jk94o"
      }
    },
    {
      "cell_type": "code",
      "source": [
        "plt.scatter(blue_coffee_shop['最高気温'], blue_coffee_shop['売上個数'])\n",
        "plt.title('ブルーコーヒー店')\n",
        "plt.xlabel('最高気温')\n",
        "plt.ylabel('売上個数')\n",
        "plt.xlim([25, 37])\n",
        "plt.ylim([0, 500])\n",
        "plt.grid()\n",
        "plt.show()"
      ],
      "metadata": {
        "colab": {
          "base_uri": "https://localhost:8080/",
          "height": 469
        },
        "id": "Xm79HQ9vlAmt",
        "outputId": "81f8da8d-ce83-41ac-f6f4-df4930558aa9"
      },
      "execution_count": null,
      "outputs": [
        {
          "output_type": "display_data",
          "data": {
            "text/plain": [
              "<Figure size 640x480 with 1 Axes>"
            ],
            "image/png": "[encoded data removed]"
          },
          "metadata": {}
        }
      ]
    },
    {
      "cell_type": "markdown",
      "source": [
        "### レッドコーヒー店の散布図の作成\n",
        "レッドコーヒー店のアイスコーヒーの売上個数を横軸に，最高気温を縦軸にとった散布図を作成します。"
      ],
      "metadata": {
        "id": "xAUeOOhJEYeO"
      }
    },
    {
      "cell_type": "code",
      "source": [
        "plt.scatter(red_coffee_shop['最高気温'], red_coffee_shop['売上個数'])\n",
        "plt.title('レッドコーヒー店')\n",
        "plt.xlabel('最高気温')\n",
        "plt.ylabel('売上個数')\n",
        "plt.xlim([25, 37])\n",
        "plt.ylim([0, 500])\n",
        "plt.grid()\n",
        "plt.show()"
      ],
      "metadata": {
        "colab": {
          "base_uri": "https://localhost:8080/",
          "height": 469
        },
        "outputId": "64d7b8c9-2717-461a-9e9e-d888f1c7fe49",
        "id": "Hqn5u2JhrDs7"
      },
      "execution_count": null,
      "outputs": [
        {
          "output_type": "display_data",
          "data": {
            "text/plain": [
              "<Figure size 640x480 with 1 Axes>"
            ],
            "image/png": "[encoded data removed]"
          },
          "metadata": {}
        }
      ]
    },
    {
      "cell_type": "markdown",
      "source": [
        "## 相関係数\n",
        "ブルーコーヒー店のアイスコーヒーの売上個数と最高気温の相関係数を求めます。\n",
        "\n",
        "### 定義通りに求める"
      ],
      "metadata": {
        "id": "qeAZeaCwrZJK"
      }
    },
    {
      "cell_type": "code",
      "source": [
        "diff_x = []\n",
        "diff_y = []\n",
        "\n",
        "# 偏差xを求める\n",
        "for tmp in blue_coffee_shop['最高気温']:\n",
        "  diff_x.append(tmp - blue_coffee_shop['最高気温'].mean())\n",
        "\n",
        "# 偏差yを求める\n",
        "for tmp in blue_coffee_shop['売上個数']:\n",
        "  diff_y.append(tmp - blue_coffee_shop['売上個数'].mean())\n",
        "\n",
        "# 偏差積を求める\n",
        "m_xy = list(map(lambda x, y: x * y, diff_x, diff_y))\n",
        "\n",
        "# 偏差積の平均を求める\n",
        "m_xy_mean = sum(m_xy)/len(m_xy)\n",
        "\n",
        "# 相関係数を求める\n",
        "r = m_xy_mean/blue_coffee_shop['最高気温'].std(ddof=0)/blue_coffee_shop['売上個数'].std(ddof=0)\n",
        "print('最高気温と売上個数の相関係数', r)"
      ],
      "metadata": {
        "colab": {
          "base_uri": "https://localhost:8080/"
        },
        "id": "gN-gGDTQQ84S",
        "outputId": "2f71e539-85e5-47be-9020-f4cb0fb76d21"
      },
      "execution_count": null,
      "outputs": [
        {
          "output_type": "stream",
          "name": "stdout",
          "text": [
            "最高気温と売上個数の相関係数 0.761059333406429\n"
          ]
        }
      ]
    },
    {
      "cell_type": "markdown",
      "source": [
        "### corrメソッド\n",
        "pandasのcorrメソッドを使うと相関係数が求められます。"
      ],
      "metadata": {
        "id": "v1EVKknKQy_E"
      }
    },
    {
      "cell_type": "code",
      "source": [
        "blue_coffee_shop.corr()\n"
      ],
      "metadata": {
        "colab": {
          "base_uri": "https://localhost:8080/",
          "height": 112
        },
        "id": "z6YiZDiMtnQg",
        "outputId": "ebadef13-fe22-4fa9-aa73-f0deefade950"
      },
      "execution_count": null,
      "outputs": [
        {
          "output_type": "execute_result",
          "data": {
            "text/plain": [
              "          最高気温      売上個数\n",
              "最高気温  1.000000  0.761059\n",
              "売上個数  0.761059  1.000000"
            ],
            "text/html": [
              "\n",
              "  <div id=\"df-941240a0-dd12-4f62-8c8c-d914e26a0b22\" class=\"colab-df-container\">\n",
              "    <div>\n",
              "<style scoped>\n",
              "    .dataframe tbody tr th:only-of-type {\n",
              "        vertical-align: middle;\n",
              "    }\n",
              "\n",
              "    .dataframe tbody tr th {\n",
              "        vertical-align: top;\n",
              "    }\n",
              "\n",
              "    .dataframe thead th {\n",
              "        text-align: right;\n",
              "    }\n",
              "</style>\n",
              "<table border=\"1\" class=\"dataframe\">\n",
              "  <thead>\n",
              "    <tr style=\"text-align: right;\">\n",
              "      <th></th>\n",
              "      <th>最高気温</th>\n",
              "      <th>売上個数</th>\n",
              "    </tr>\n",
              "  </thead>\n",
              "  <tbody>\n",
              "    <tr>\n",
              "      <th>最高気温</th>\n",
              "      <td>1.000000</td>\n",
              "      <td>0.761059</td>\n",
              "    </tr>\n",
              "    <tr>\n",
              "      <th>売上個数</th>\n",
              "      <td>0.761059</td>\n",
              "      <td>1.000000</td>\n",
              "    </tr>\n",
              "  </tbody>\n",
              "</table>\n",
              "</div>\n",
              "    <div class=\"colab-df-buttons\">\n",
              "\n",
              "  <div class=\"colab-df-container\">\n",
              "    <button class=\"colab-df-convert\" onclick=\"convertToInteractive('df-941240a0-dd12-4f62-8c8c-d914e26a0b22')\"\n",
              "            title=\"Convert this dataframe to an interactive table.\"\n",
              "            style=\"display:none;\">\n",
              "\n",
              "  <svg xmlns=\"http://www.w3.org/2000/svg\" height=\"24px\" viewBox=\"0 -960 960 960\">\n",
              "    <path d=\"M120-120v-720h720v720H120Zm60-500h600v-160H180v160Zm220 220h160v-160H400v160Zm0 220h160v-160H400v160ZM180-400h160v-160H180v160Zm440 0h160v-160H620v160ZM180-180h160v-160H180v160Zm440 0h160v-160H620v160Z\"/>\n",
              "  </svg>\n",
              "    </button>\n",
              "\n",
              "  <style>\n",
              "    .colab-df-container {\n",
              "      display:flex;\n",
              "      gap: 12px;\n",
              "    }\n",
              "\n",
              "    .colab-df-convert {\n",
              "      background-color: #E8F0FE;\n",
              "      border: none;\n",
              "      border-radius: 50%;\n",
              "      cursor: pointer;\n",
              "      display: none;\n",
              "      fill: #1967D2;\n",
              "      height: 32px;\n",
              "      padding: 0 0 0 0;\n",
              "      width: 32px;\n",
              "    }\n",
              "\n",
              "    .colab-df-convert:hover {\n",
              "      background-color: #E2EBFA;\n",
              "      box-shadow: 0px 1px 2px rgba(60, 64, 67, 0.3), 0px 1px 3px 1px rgba(60, 64, 67, 0.15);\n",
              "      fill: #174EA6;\n",
              "    }\n",
              "\n",
              "    .colab-df-buttons div {\n",
              "      margin-bottom: 4px;\n",
              "    }\n",
              "\n",
              "    [theme=dark] .colab-df-convert {\n",
              "      background-color: #3B4455;\n",
              "      fill: #D2E3FC;\n",
              "    }\n",
              "\n",
              "    [theme=dark] .colab-df-convert:hover {\n",
              "      background-color: #434B5C;\n",
              "      box-shadow: 0px 1px 3px 1px rgba(0, 0, 0, 0.15);\n",
              "      filter: drop-shadow(0px 1px 2px rgba(0, 0, 0, 0.3));\n",
              "      fill: #FFFFFF;\n",
              "    }\n",
              "  </style>\n",
              "\n",
              "    <script>\n",
              "      const buttonEl =\n",
              "        document.querySelector('#df-941240a0-dd12-4f62-8c8c-d914e26a0b22 button.colab-df-convert');\n",
              "      buttonEl.style.display =\n",
              "        google.colab.kernel.accessAllowed ? 'block' : 'none';\n",
              "\n",
              "      async function convertToInteractive(key) {\n",
              "        const element = document.querySelector('#df-941240a0-dd12-4f62-8c8c-d914e26a0b22');\n",
              "        const dataTable =\n",
              "          await google.colab.kernel.invokeFunction('convertToInteractive',\n",
              "                                                    [key], {});\n",
              "        if (!dataTable) return;\n",
              "\n",
              "        const docLinkHtml = 'Like what you see? Visit the ' +\n",
              "          '<a target=\"_blank\" href=https://colab.research.google.com/notebooks/data_table.ipynb>data table notebook</a>'\n",
              "          + ' to learn more about interactive tables.';\n",
              "        element.innerHTML = '';\n",
              "        dataTable['output_type'] = 'display_data';\n",
              "        await google.colab.output.renderOutput(dataTable, element);\n",
              "        const docLink = document.createElement('div');\n",
              "        docLink.innerHTML = docLinkHtml;\n",
              "        element.appendChild(docLink);\n",
              "      }\n",
              "    </script>\n",
              "  </div>\n",
              "\n",
              "\n",
              "<div id=\"df-74046756-78f8-4b99-bd2a-130ef4d819b2\">\n",
              "  <button class=\"colab-df-quickchart\" onclick=\"quickchart('df-74046756-78f8-4b99-bd2a-130ef4d819b2')\"\n",
              "            title=\"Suggest charts\"\n",
              "            style=\"display:none;\">\n",
              "\n",
              "<svg xmlns=\"http://www.w3.org/2000/svg\" height=\"24px\"viewBox=\"0 0 24 24\"\n",
              "     width=\"24px\">\n",
              "    <g>\n",
              "        <path d=\"M19 3H5c-1.1 0-2 .9-2 2v14c0 1.1.9 2 2 2h14c1.1 0 2-.9 2-2V5c0-1.1-.9-2-2-2zM9 17H7v-7h2v7zm4 0h-2V7h2v10zm4 0h-2v-4h2v4z\"/>\n",
              "    </g>\n",
              "</svg>\n",
              "  </button>\n",
              "\n",
              "<style>\n",
              "  .colab-df-quickchart {\n",
              "      --bg-color: #E8F0FE;\n",
              "      --fill-color: #1967D2;\n",
              "      --hover-bg-color: #E2EBFA;\n",
              "      --hover-fill-color: #174EA6;\n",
              "      --disabled-fill-color: #AAA;\n",
              "      --disabled-bg-color: #DDD;\n",
              "  }\n",
              "\n",
              "  [theme=dark] .colab-df-quickchart {\n",
              "      --bg-color: #3B4455;\n",
              "      --fill-color: #D2E3FC;\n",
              "      --hover-bg-color: #434B5C;\n",
              "      --hover-fill-color: #FFFFFF;\n",
              "      --disabled-bg-color: #3B4455;\n",
              "      --disabled-fill-color: #666;\n",
              "  }\n",
              "\n",
              "  .colab-df-quickchart {\n",
              "    background-color: var(--bg-color);\n",
              "    border: none;\n",
              "    border-radius: 50%;\n",
              "    cursor: pointer;\n",
              "    display: none;\n",
              "    fill: var(--fill-color);\n",
              "    height: 32px;\n",
              "    padding: 0;\n",
              "    width: 32px;\n",
              "  }\n",
              "\n",
              "  .colab-df-quickchart:hover {\n",
              "    background-color: var(--hover-bg-color);\n",
              "    box-shadow: 0 1px 2px rgba(60, 64, 67, 0.3), 0 1px 3px 1px rgba(60, 64, 67, 0.15);\n",
              "    fill: var(--button-hover-fill-color);\n",
              "  }\n",
              "\n",
              "  .colab-df-quickchart-complete:disabled,\n",
              "  .colab-df-quickchart-complete:disabled:hover {\n",
              "    background-color: var(--disabled-bg-color);\n",
              "    fill: var(--disabled-fill-color);\n",
              "    box-shadow: none;\n",
              "  }\n",
              "\n",
              "  .colab-df-spinner {\n",
              "    border: 2px solid var(--fill-color);\n",
              "    border-color: transparent;\n",
              "    border-bottom-color: var(--fill-color);\n",
              "    animation:\n",
              "      spin 1s steps(1) infinite;\n",
              "  }\n",
              "\n",
              "  @keyframes spin {\n",
              "    0% {\n",
              "      border-color: transparent;\n",
              "      border-bottom-color: var(--fill-color);\n",
              "      border-left-color: var(--fill-color);\n",
              "    }\n",
              "    20% {\n",
              "      border-color: transparent;\n",
              "      border-left-color: var(--fill-color);\n",
              "      border-top-color: var(--fill-color);\n",
              "    }\n",
              "    30% {\n",
              "      border-color: transparent;\n",
              "      border-left-color: var(--fill-color);\n",
              "      border-top-color: var(--fill-color);\n",
              "      border-right-color: var(--fill-color);\n",
              "    }\n",
              "    40% {\n",
              "      border-color: transparent;\n",
              "      border-right-color: var(--fill-color);\n",
              "      border-top-color: var(--fill-color);\n",
              "    }\n",
              "    60% {\n",
              "      border-color: transparent;\n",
              "      border-right-color: var(--fill-color);\n",
              "    }\n",
              "    80% {\n",
              "      border-color: transparent;\n",
              "      border-right-color: var(--fill-color);\n",
              "      border-bottom-color: var(--fill-color);\n",
              "    }\n",
              "    90% {\n",
              "      border-color: transparent;\n",
              "      border-bottom-color: var(--fill-color);\n",
              "    }\n",
              "  }\n",
              "</style>\n",
              "\n",
              "  <script>\n",
              "    async function quickchart(key) {\n",
              "      const quickchartButtonEl =\n",
              "        document.querySelector('#' + key + ' button');\n",
              "      quickchartButtonEl.disabled = true;  // To prevent multiple clicks.\n",
              "      quickchartButtonEl.classList.add('colab-df-spinner');\n",
              "      try {\n",
              "        const charts = await google.colab.kernel.invokeFunction(\n",
              "            'suggestCharts', [key], {});\n",
              "      } catch (error) {\n",
              "        console.error('Error during call to suggestCharts:', error);\n",
              "      }\n",
              "      quickchartButtonEl.classList.remove('colab-df-spinner');\n",
              "      quickchartButtonEl.classList.add('colab-df-quickchart-complete');\n",
              "    }\n",
              "    (() => {\n",
              "      let quickchartButtonEl =\n",
              "        document.querySelector('#df-74046756-78f8-4b99-bd2a-130ef4d819b2 button');\n",
              "      quickchartButtonEl.style.display =\n",
              "        google.colab.kernel.accessAllowed ? 'block' : 'none';\n",
              "    })();\n",
              "  </script>\n",
              "</div>\n",
              "\n",
              "    </div>\n",
              "  </div>\n"
            ],
            "application/vnd.google.colaboratory.intrinsic+json": {
              "type": "dataframe",
              "summary": "{\n  \"name\": \"blue_coffee_shop\",\n  \"rows\": 2,\n  \"fields\": [\n    {\n      \"column\": \"\\u6700\\u9ad8\\u6c17\\u6e29\",\n      \"properties\": {\n        \"dtype\": \"number\",\n        \"std\": 0.16895656564954845,\n        \"min\": 0.7610593334064284,\n        \"max\": 1.0,\n        \"num_unique_values\": 2,\n        \"samples\": [\n          0.7610593334064284,\n          1.0\n        ],\n        \"semantic_type\": \"\",\n        \"description\": \"\"\n      }\n    },\n    {\n      \"column\": \"\\u58f2\\u4e0a\\u500b\\u6570\",\n      \"properties\": {\n        \"dtype\": \"number\",\n        \"std\": 0.16895656564954845,\n        \"min\": 0.7610593334064284,\n        \"max\": 1.0,\n        \"num_unique_values\": 2,\n        \"samples\": [\n          1.0,\n          0.7610593334064284\n        ],\n        \"semantic_type\": \"\",\n        \"description\": \"\"\n      }\n    }\n  ]\n}"
            }
          },
          "metadata": {},
          "execution_count": 6
        }
      ]
    },
    {
      "cell_type": "markdown",
      "source": [
        "## 相関の強さ\n",
        "相関係数は-1から1の範囲で値を取ります。一般に相関係数はギリシャ文字$\\rho$を用います。\n",
        "\n",
        "| **　　相関係数の範囲　　** | **　　意味　　** |\n",
        "| --- | --- |\n",
        "| $-1 \\leqq \\rho < -0.7 $ | 強い負の相関がある |\n",
        "| $-0.7 \\leqq \\rho < -0.4 $ | 中程度の負の相関がある |\n",
        "| $-0.4 \\leqq \\rho < -0.2 $ | 弱い負の相関がある |\n",
        "| $-0.2 \\leqq \\rho < 0.2 $ | ほとんど相関がない |\n",
        "| $0.2 \\leqq \\rho < 0.4 $ | 弱い正の相関がある |\n",
        "| $0.4 \\leqq \\rho < 0.7 $ | 中程度の正の相関がある |\n",
        "| $0.7 \\leqq \\rho \\leqq 1.0 $ | 強い正の相関がある |\n",
        "\n"
      ],
      "metadata": {
        "id": "Q8lRJPwAEsJs"
      }
    }
  ]
}