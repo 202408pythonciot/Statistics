{
  "nbformat": 4,
  "nbformat_minor": 0,
  "metadata": {
    "colab": {
      "provenance": []
    },
    "kernelspec": {
      "name": "python3",
      "display_name": "Python 3"
    },
    "language_info": {
      "name": "python"
    }
  },
  "cells": [
    {
      "cell_type": "markdown",
      "source": [
        "# 第2章 分散と標準偏差\n",
        "\n",
        "---\n",
        "[Google Colaboratoryで開く](https://colab.research.google.com/github/202408pythonciot/Statistics/blob/main/_Textbook/Lesson_02/Colaboratory/Lesson_02.ipynb)\n",
        "\n",
        "<a target=\"_blank\" href=\"https://colab.research.google.com/github/202408pythonciot/Statistics/blob/main/_Textbook/Lesson_02/Colaboratory/Lesson_02.ipynb\">\n",
        "  <img src=\"https://colab.research.google.com/assets/colab-badge.svg\" alt=\"Open In Colab\"/>\n",
        "</a>\n",
        "\n",
        "---\n",
        "\n",
        "上海飯店と四川飯店の麻婆豆腐の豆腐サイズ（重さ）について度数分布図を作成して比較します。\n",
        "\n",
        "---\n"
      ],
      "metadata": {
        "id": "VnnS5q5P8QP9"
      }
    },
    {
      "cell_type": "markdown",
      "source": [
        "## 事前準備\n",
        "\n"
      ],
      "metadata": {
        "id": "ti-EW54Vh1Lu"
      }
    },
    {
      "cell_type": "markdown",
      "source": [
        "### matplotlibの日本語化ライブラリをインストール\n",
        "\n"
      ],
      "metadata": {
        "id": "Z8oJAnbGiEtU"
      }
    },
    {
      "cell_type": "code",
      "source": [
        "!pip install japanize-matplotlib"
      ],
      "metadata": {
        "colab": {
          "base_uri": "https://localhost:8080/"
        },
        "id": "ekqkMSm_-icC",
        "outputId": "604ab260-eadc-41d6-80ca-2e7cc340f0c9",
        "collapsed": true
      },
      "execution_count": 1,
      "outputs": [
        {
          "output_type": "stream",
          "name": "stdout",
          "text": [
            "Collecting japanize-matplotlib\n",
            "  Downloading japanize-matplotlib-1.1.3.tar.gz (4.1 MB)\n",
            "\u001b[?25l     \u001b[90m━━━━━━━━━━━━━━━━━━━━━━━━━━━━━━━━━━━━━━━━\u001b[0m \u001b[32m0.0/4.1 MB\u001b[0m \u001b[31m?\u001b[0m eta \u001b[36m-:--:--\u001b[0m\r\u001b[2K     \u001b[91m━\u001b[0m\u001b[90m╺\u001b[0m\u001b[90m━━━━━━━━━━━━━━━━━━━━━━━━━━━━━━━━━━━━━━\u001b[0m \u001b[32m0.1/4.1 MB\u001b[0m \u001b[31m3.9 MB/s\u001b[0m eta \u001b[36m0:00:02\u001b[0m\r\u001b[2K     \u001b[91m━━━━━━━━━━━━\u001b[0m\u001b[91m╸\u001b[0m\u001b[90m━━━━━━━━━━━━━━━━━━━━━━━━━━━\u001b[0m \u001b[32m1.3/4.1 MB\u001b[0m \u001b[31m18.0 MB/s\u001b[0m eta \u001b[36m0:00:01\u001b[0m\r\u001b[2K     \u001b[91m━━━━━━━━━━━━━━━━━━━━━━━━━━━━━\u001b[0m\u001b[90m╺\u001b[0m\u001b[90m━━━━━━━━━━\u001b[0m \u001b[32m3.0/4.1 MB\u001b[0m \u001b[31m25.2 MB/s\u001b[0m eta \u001b[36m0:00:01\u001b[0m\r\u001b[2K     \u001b[91m━━━━━━━━━━━━━━━━━━━━━━━━━━━━━━━━━━━━━━━\u001b[0m\u001b[91m╸\u001b[0m \u001b[32m4.1/4.1 MB\u001b[0m \u001b[31m29.3 MB/s\u001b[0m eta \u001b[36m0:00:01\u001b[0m\r\u001b[2K     \u001b[90m━━━━━━━━━━━━━━━━━━━━━━━━━━━━━━━━━━━━━━━━\u001b[0m \u001b[32m4.1/4.1 MB\u001b[0m \u001b[31m22.3 MB/s\u001b[0m eta \u001b[36m0:00:00\u001b[0m\n",
            "\u001b[?25h  Preparing metadata (setup.py) ... \u001b[?25l\u001b[?25hdone\n",
            "Requirement already satisfied: matplotlib in /usr/local/lib/python3.10/dist-packages (from japanize-matplotlib) (3.7.1)\n",
            "Requirement already satisfied: contourpy>=1.0.1 in /usr/local/lib/python3.10/dist-packages (from matplotlib->japanize-matplotlib) (1.3.0)\n",
            "Requirement already satisfied: cycler>=0.10 in /usr/local/lib/python3.10/dist-packages (from matplotlib->japanize-matplotlib) (0.12.1)\n",
            "Requirement already satisfied: fonttools>=4.22.0 in /usr/local/lib/python3.10/dist-packages (from matplotlib->japanize-matplotlib) (4.54.1)\n",
            "Requirement already satisfied: kiwisolver>=1.0.1 in /usr/local/lib/python3.10/dist-packages (from matplotlib->japanize-matplotlib) (1.4.7)\n",
            "Requirement already satisfied: numpy>=1.20 in /usr/local/lib/python3.10/dist-packages (from matplotlib->japanize-matplotlib) (1.26.4)\n",
            "Requirement already satisfied: packaging>=20.0 in /usr/local/lib/python3.10/dist-packages (from matplotlib->japanize-matplotlib) (24.1)\n",
            "Requirement already satisfied: pillow>=6.2.0 in /usr/local/lib/python3.10/dist-packages (from matplotlib->japanize-matplotlib) (10.4.0)\n",
            "Requirement already satisfied: pyparsing>=2.3.1 in /usr/local/lib/python3.10/dist-packages (from matplotlib->japanize-matplotlib) (3.2.0)\n",
            "Requirement already satisfied: python-dateutil>=2.7 in /usr/local/lib/python3.10/dist-packages (from matplotlib->japanize-matplotlib) (2.8.2)\n",
            "Requirement already satisfied: six>=1.5 in /usr/local/lib/python3.10/dist-packages (from python-dateutil>=2.7->matplotlib->japanize-matplotlib) (1.16.0)\n",
            "Building wheels for collected packages: japanize-matplotlib\n",
            "  Building wheel for japanize-matplotlib (setup.py) ... \u001b[?25l\u001b[?25hdone\n",
            "  Created wheel for japanize-matplotlib: filename=japanize_matplotlib-1.1.3-py3-none-any.whl size=4120257 sha256=dc81528eb9b86cb6f007f5603a469bef5b6bec21c4ae1e8e2f87b5c16f55f2a4\n",
            "  Stored in directory: /root/.cache/pip/wheels/61/7a/6b/df1f79be9c59862525070e157e62b08eab8ece27c1b68fbb94\n",
            "Successfully built japanize-matplotlib\n",
            "Installing collected packages: japanize-matplotlib\n",
            "Successfully installed japanize-matplotlib-1.1.3\n"
          ]
        }
      ]
    },
    {
      "cell_type": "markdown",
      "source": [
        "### 上海飯店と四川飯店のデータをダウンロード"
      ],
      "metadata": {
        "id": "kn4T-1IsCdDF"
      }
    },
    {
      "cell_type": "code",
      "execution_count": 2,
      "metadata": {
        "colab": {
          "base_uri": "https://localhost:8080/"
        },
        "id": "20Q6cvSI7Jqo",
        "outputId": "a5927773-265c-4e60-f708-a7582db50e62",
        "collapsed": true
      },
      "outputs": [
        {
          "output_type": "stream",
          "name": "stdout",
          "text": [
            "--2024-10-20 08:53:15--  https://raw.githubusercontent.com/202408pythonciot/Statistics/refs/heads/main/_Textbook/Lesson_02/Sample_Data/shanghai_tofu.csv\n",
            "Resolving raw.githubusercontent.com (raw.githubusercontent.com)... 185.199.108.133, 185.199.109.133, 185.199.110.133, ...\n",
            "Connecting to raw.githubusercontent.com (raw.githubusercontent.com)|185.199.108.133|:443... connected.\n",
            "HTTP request sent, awaiting response... 200 OK\n",
            "Length: 284 [text/plain]\n",
            "Saving to: ‘shanghai_tofu.csv’\n",
            "\n",
            "shanghai_tofu.csv   100%[===================>]     284  --.-KB/s    in 0s      \n",
            "\n",
            "2024-10-20 08:53:15 (16.5 MB/s) - ‘shanghai_tofu.csv’ saved [284/284]\n",
            "\n",
            "--2024-10-20 08:53:15--  https://raw.githubusercontent.com/202408pythonciot/Statistics/refs/heads/main/_Textbook/Lesson_02/Sample_Data/shisen_tofu.csv\n",
            "Resolving raw.githubusercontent.com (raw.githubusercontent.com)... 185.199.108.133, 185.199.109.133, 185.199.110.133, ...\n",
            "Connecting to raw.githubusercontent.com (raw.githubusercontent.com)|185.199.108.133|:443... connected.\n",
            "HTTP request sent, awaiting response... 200 OK\n",
            "Length: 302 [text/plain]\n",
            "Saving to: ‘shisen_tofu.csv’\n",
            "\n",
            "shisen_tofu.csv     100%[===================>]     302  --.-KB/s    in 0s      \n",
            "\n",
            "2024-10-20 08:53:15 (4.33 MB/s) - ‘shisen_tofu.csv’ saved [302/302]\n",
            "\n"
          ]
        }
      ],
      "source": [
        "## 上海飯店のデータをGithubよりダウンロード\n",
        "!wget https://raw.githubusercontent.com/202408pythonciot/Statistics/refs/heads/main/_Textbook/Lesson_02/Sample_Data/shanghai_tofu.csv -O shanghai_tofu.csv\n",
        "\n",
        "## 四川飯店のデータをGithubよりダウンロード\n",
        "!wget https://raw.githubusercontent.com/202408pythonciot/Statistics/refs/heads/main/_Textbook/Lesson_02/Sample_Data/shisen_tofu.csv -O shisen_tofu.csv"
      ]
    },
    {
      "cell_type": "markdown",
      "source": [
        "### データ分析，グラフ作成ライブラリをインポート\n",
        "pandas，matplotlibをインポートします。"
      ],
      "metadata": {
        "id": "BvO-MKEEIYDN"
      }
    },
    {
      "cell_type": "code",
      "source": [
        "import pandas as pd\n",
        "import matplotlib.pyplot as plt\n",
        "import japanize_matplotlib\n"
      ],
      "metadata": {
        "id": "80gSVcEI8Ui0"
      },
      "execution_count": 3,
      "outputs": []
    },
    {
      "cell_type": "markdown",
      "source": [
        "pandasにCSVデータを読み込みます。"
      ],
      "metadata": {
        "id": "_ZIq9bNl8ldj"
      }
    },
    {
      "cell_type": "code",
      "source": [
        "shanghai_tofu = pd.read_csv(\"./shanghai_tofu.csv\")\n",
        "shisen_tofu = pd.read_csv(\"./shisen_tofu.csv\")"
      ],
      "metadata": {
        "id": "cgAVB6qSG4US"
      },
      "execution_count": 4,
      "outputs": []
    },
    {
      "cell_type": "markdown",
      "source": [
        "読み込んだデータを表示"
      ],
      "metadata": {
        "id": "Cm8HS243JaVo"
      }
    },
    {
      "cell_type": "code",
      "source": [
        "with pd.option_context('display.max_rows',6):\n",
        "    print(shanghai_tofu)"
      ],
      "metadata": {
        "colab": {
          "base_uri": "https://localhost:8080/"
        },
        "id": "SWQ0f1qNJYV4",
        "outputId": "72f4e631-96d2-453c-f7e1-2966d7c72300"
      },
      "execution_count": 5,
      "outputs": [
        {
          "output_type": "stream",
          "name": "stdout",
          "text": [
            "    番号    重さ\n",
            "0    1  16.9\n",
            "1    2  15.7\n",
            "2    3  13.1\n",
            "..  ..   ...\n",
            "29  30  19.2\n",
            "30  31  10.1\n",
            "31  32  14.5\n",
            "\n",
            "[32 rows x 2 columns]\n"
          ]
        }
      ]
    },
    {
      "cell_type": "markdown",
      "source": [
        "## 平均値・分散標準・偏差"
      ],
      "metadata": {
        "id": "gL-mKkkXJYD7"
      }
    },
    {
      "cell_type": "markdown",
      "source": [
        "### 平均値を求める\n",
        "pandasの機能を使わずに，求めてみる。標本の数を$n$，平均値を$\\mu_{x}$とすると，以下の式で表せる。\n",
        "$$\n",
        "\\mu_{x}\n",
        "= \\frac{1}{n}(x_1 + x_2 + x_3 + \\cdot \\cdot \\cdot + x_n)\n",
        "= \\frac{1}{n}\\sum_{i=1}^{n} x_i\n",
        "$$"
      ],
      "metadata": {
        "id": "Cnls1ker2oQb"
      }
    },
    {
      "cell_type": "code",
      "source": [
        "# 上海飯店の平均値\n",
        "sum_weight = 0\n",
        "n = len(shanghai_tofu['重さ'])\n",
        "for weight in shanghai_tofu['重さ']:\n",
        "    sum_weight += weight\n",
        "mean = sum_weight / n\n",
        "print('上海飯店の平均値：', mean)"
      ],
      "metadata": {
        "colab": {
          "base_uri": "https://localhost:8080/"
        },
        "id": "kChwdehHKTq2",
        "outputId": "f6e6699f-dbc8-43f4-def9-5c36067f3033"
      },
      "execution_count": 6,
      "outputs": [
        {
          "output_type": "stream",
          "name": "stdout",
          "text": [
            "上海飯店の平均値： 14.359374999999998\n"
          ]
        }
      ]
    },
    {
      "cell_type": "markdown",
      "source": [
        "同様に四川飯店の平均値を求める"
      ],
      "metadata": {
        "id": "VWx2UVvf4Fgc"
      }
    },
    {
      "cell_type": "code",
      "source": [
        "# 四川飯店の平均値\n",
        "sum_weight = 0\n",
        "n = len(shisen_tofu['重さ'])\n",
        "for weight in shisen_tofu['重さ']:\n",
        "    sum_weight += weight\n",
        "mean = sum_weight / n\n",
        "print('四川飯店の平均値：', mean)"
      ],
      "metadata": {
        "colab": {
          "base_uri": "https://localhost:8080/"
        },
        "outputId": "c784167a-80ca-4ec3-fa90-f1c029b6ef87",
        "id": "yoZqM3CH4MJQ"
      },
      "execution_count": 7,
      "outputs": [
        {
          "output_type": "stream",
          "name": "stdout",
          "text": [
            "四川飯店の平均値： 15.864705882352943\n"
          ]
        }
      ]
    },
    {
      "cell_type": "markdown",
      "source": [
        "|  | 平均値 |\n",
        "| --- | --- |\n",
        "| 上海飯店 | 14.36 |\n",
        " |四川飯店 | 15.86 |\n"
      ],
      "metadata": {
        "id": "E_8ShHLD4T8i"
      }
    },
    {
      "cell_type": "markdown",
      "source": [
        "### 分散・標準偏差を求める\n",
        "pandasの機能を使わずに，分散求めてみる。分散を$s^2$，標本の数を$n$，平均値を$\\mu_{x}$とすると，以下の式で表せる。\n",
        "$$\n",
        "s^2\n",
        " = \\frac{1}{n}\\{(x_1 - \\mu_{x})^2 + (x_2 - \\mu_{x})^2 + (x_3 - \\mu_{x})^2 + \\cdot \\cdot \\cdot + (x_n - \\mu_{x})^2\\}\n",
        "$$\n",
        "$$\n",
        "s^2\n",
        " = \\frac{1}{n}\\sum_{i=1}^{n} (x_i - \\mu_{x})^2\n",
        "$$\n",
        "\n",
        "また標準偏差$s$は，\n",
        "\n",
        "$$ s = \\sqrt{s^2}$$"
      ],
      "metadata": {
        "id": "E26GubGL5Ay7"
      }
    },
    {
      "cell_type": "code",
      "source": [
        "import math\n",
        "# 上海飯店の分散と標準偏差\n",
        "n = len(shanghai_tofu['重さ'])\n",
        "mean = sum(shanghai_tofu['重さ']) / n\n",
        "print(mean)\n",
        "sum_div = 0\n",
        "for weight in shanghai_tofu['重さ']:\n",
        "    sum_div = sum_div + (weight - mean) * (weight - mean)\n",
        "dispersion = sum_div / n\n",
        "print('上海飯店の分散：', dispersion)\n",
        "print('上海飯店の標準偏差：', math.sqrt(dispersion))"
      ],
      "metadata": {
        "colab": {
          "base_uri": "https://localhost:8080/"
        },
        "id": "RnF2KRfBKEBg",
        "outputId": "1a2cb564-36a7-4933-a6c1-abcb8faecd88"
      },
      "execution_count": 8,
      "outputs": [
        {
          "output_type": "stream",
          "name": "stdout",
          "text": [
            "14.359374999999998\n",
            "上海飯店の分散： 8.986787109375001\n",
            "上海飯店の標準偏差： 2.997797042725708\n"
          ]
        }
      ]
    },
    {
      "cell_type": "markdown",
      "source": [
        "## 度数分布図の作成"
      ],
      "metadata": {
        "id": "32LdtWtoKLvm"
      }
    },
    {
      "cell_type": "code",
      "source": [
        "plt.hist(shanghai_tofu['重さ'], bins=range(0, 21, 2), color='#88F', ec='#00A')\n",
        "plt.title('上海飯店の度数分布図')\n",
        "plt.xlim([0, 20])\n",
        "plt.ylim([0, 25])\n",
        "plt.xlabel('重さ')\n",
        "plt.ylabel('度数')\n",
        "plt.show()"
      ],
      "metadata": {
        "colab": {
          "base_uri": "https://localhost:8080/",
          "height": 469
        },
        "id": "3K-h71Ld8l9k",
        "outputId": "0739851c-9ba0-4198-82a1-b39b31bd0478"
      },
      "execution_count": 9,
      "outputs": [
        {
          "output_type": "display_data",
          "data": {
            "text/plain": [
              "<Figure size 640x480 with 1 Axes>"
            ],
            "image/png": "[encoded data removed]"
          },
          "metadata": {}
        }
      ]
    },
    {
      "cell_type": "markdown",
      "source": [
        "同様に，四川飯店の度数分布図を描きます"
      ],
      "metadata": {
        "id": "zggcPiZkK-Su"
      }
    },
    {
      "cell_type": "code",
      "source": [
        "shisen_tofu = pd.read_csv(\"./shisen_tofu.csv\")\n",
        "\n",
        "plt.hist(shisen_tofu['重さ'], bins=range(0, 21, 2), color='#88F', ec='#00A')\n",
        "plt.title('四川飯店の度数分布図')\n",
        "plt.xlim([0, 20])\n",
        "plt.ylim([0, 25])\n",
        "plt.xlabel('重さ')\n",
        "plt.ylabel('度数')\n",
        "plt.show()"
      ],
      "metadata": {
        "colab": {
          "base_uri": "https://localhost:8080/",
          "height": 469
        },
        "id": "TCX5ma3aUi7l",
        "outputId": "2a1224d4-2e3f-4659-8cd2-fc96cdcc5e81"
      },
      "execution_count": 10,
      "outputs": [
        {
          "output_type": "display_data",
          "data": {
            "text/plain": [
              "<Figure size 640x480 with 1 Axes>"
            ],
            "image/png": "[encoded data removed]"
          },
          "metadata": {}
        }
      ]
    },
    {
      "cell_type": "markdown",
      "source": [
        "2つのヒストグラムを1枚で"
      ],
      "metadata": {
        "id": "KDpuvmCiXfFp"
      }
    },
    {
      "cell_type": "code",
      "source": [
        "plt.hist(shanghai_tofu['重さ'],label='上海飯店', bins=range(0, 21, 2), color='#f88', ec='#F00',alpha=0.5)\n",
        "plt.hist(shisen_tofu['重さ'], label='四川飯店', bins=range(0, 21, 2), color='#88F', ec='#00A',alpha=0.5)\n",
        "plt.title('麻婆豆腐の豆腐の重さの度数分布図')\n",
        "plt.xlim([0, 20])\n",
        "plt.ylim([0, 25])\n",
        "plt.xlabel('重さ')\n",
        "plt.ylabel('度数')\n",
        "plt.legend(loc='upper left')\n",
        "plt.show()"
      ],
      "metadata": {
        "colab": {
          "base_uri": "https://localhost:8080/",
          "height": 469
        },
        "id": "KLPvK2q8WJnz",
        "outputId": "7f02e84c-5d66-4801-fcac-d7c264ba359d"
      },
      "execution_count": 11,
      "outputs": [
        {
          "output_type": "display_data",
          "data": {
            "text/plain": [
              "<Figure size 640x480 with 1 Axes>"
            ],
            "image/png": "[encoded data removed]"
          },
          "metadata": {}
        }
      ]
    },
    {
      "cell_type": "markdown",
      "source": [
        "## ※"
      ],
      "metadata": {
        "id": "FatrB3bG17d9"
      }
    },
    {
      "cell_type": "markdown",
      "source": [
        "pandasで取り込んだデータにについて，データ数，平均値，分散，標準偏差を出力するには以下のようなメソッドを使います。"
      ],
      "metadata": {
        "id": "8cTKVYZr2IEb"
      }
    },
    {
      "cell_type": "code",
      "source": [
        "# データ数\n",
        "print('データ数', shanghai_tofu['重さ'].count())\n",
        "\n",
        "# 平均値\n",
        "print('平均値', shanghai_tofu['重さ'].mean())\n",
        "\n",
        "# 分散\n",
        "print('分散', shanghai_tofu['重さ'].var())\n",
        "\n",
        "# 標準偏差\n",
        "print('標準偏差', shanghai_tofu['重さ'].std(ddof=0))   # ddof=0 ：母集団標準偏差，1：標本標準偏差\n"
      ],
      "metadata": {
        "colab": {
          "base_uri": "https://localhost:8080/"
        },
        "id": "BCvzIncfulPt",
        "outputId": "caf1936a-2c94-45a2-d2b2-fe32a6144227"
      },
      "execution_count": 12,
      "outputs": [
        {
          "output_type": "stream",
          "name": "stdout",
          "text": [
            "データ数 32\n",
            "平均値 14.359375\n",
            "分散 9.276683467741936\n",
            "標準偏差 2.997797042725708\n"
          ]
        }
      ]
    },
    {
      "cell_type": "markdown",
      "source": [
        "※統計値をまとめて表示させたい場合は`decribe()`メソッドを使います。"
      ],
      "metadata": {
        "id": "uOWaqOFy6gFy"
      }
    },
    {
      "cell_type": "code",
      "source": [
        "print(shanghai_tofu['重さ'].describe())"
      ],
      "metadata": {
        "id": "ZUTmkcQi2Cgx",
        "colab": {
          "base_uri": "https://localhost:8080/"
        },
        "outputId": "8cd95de6-92e2-4420-b1f7-2ff3b8c8185f"
      },
      "execution_count": 13,
      "outputs": [
        {
          "output_type": "stream",
          "name": "stdout",
          "text": [
            "count    32.000000\n",
            "mean     14.359375\n",
            "std       3.045765\n",
            "min       9.000000\n",
            "25%      12.575000\n",
            "50%      14.850000\n",
            "75%      16.950000\n",
            "max      19.900000\n",
            "Name: 重さ, dtype: float64\n"
          ]
        }
      ]
    },
    {
      "cell_type": "markdown",
      "source": [
        "## 章末問題"
      ],
      "metadata": {
        "id": "PkOETI-966EI"
      }
    },
    {
      "cell_type": "markdown",
      "source": [],
      "metadata": {
        "id": "gpmtcLT87Ayw"
      }
    },
    {
      "cell_type": "code",
      "source": [
        "## 成績データをGithubよりダウンロード\n",
        "!wget https://raw.githubusercontent.com/202408pythonciot/Statistics/refs/heads/main/_Textbook/Lesson_02/Sample_Data/exam_score.csv -O exam_score.csv\n",
        "\n",
        "exam_score = pd.read_csv(\"./exam_score.csv\")\n",
        "\n",
        "\n",
        "\n",
        "\n"
      ],
      "metadata": {
        "colab": {
          "base_uri": "https://localhost:8080/"
        },
        "collapsed": true,
        "id": "GFuuSOFo7ESY",
        "outputId": "9952f5fb-ba5c-40e4-a052-48fc596333e5"
      },
      "execution_count": 14,
      "outputs": [
        {
          "output_type": "stream",
          "name": "stdout",
          "text": [
            "--2024-10-20 08:53:19--  https://raw.githubusercontent.com/202408pythonciot/Statistics/refs/heads/main/_Textbook/Lesson_02/Sample_Data/exam_score.csv\n",
            "Resolving raw.githubusercontent.com (raw.githubusercontent.com)... 185.199.109.133, 185.199.108.133, 185.199.111.133, ...\n",
            "Connecting to raw.githubusercontent.com (raw.githubusercontent.com)|185.199.109.133|:443... connected.\n",
            "HTTP request sent, awaiting response... 200 OK\n",
            "Length: 273 [text/plain]\n",
            "Saving to: ‘exam_score.csv’\n",
            "\n",
            "exam_score.csv      100%[===================>]     273  --.-KB/s    in 0s      \n",
            "\n",
            "2024-10-20 08:53:19 (4.53 MB/s) - ‘exam_score.csv’ saved [273/273]\n",
            "\n"
          ]
        }
      ]
    },
    {
      "cell_type": "markdown",
      "source": [
        "### 各科目の平均点・分散・標準偏差"
      ],
      "metadata": {
        "id": "66OMkYosCgcz"
      }
    },
    {
      "cell_type": "markdown",
      "source": [
        "国語，数学，理科，社会の平均点，分散，標準偏差を求めます。"
      ],
      "metadata": {
        "id": "gC6xh1INNntI"
      }
    },
    {
      "cell_type": "code",
      "source": [
        "for key in exam_score.columns:\n",
        "    if key != '学生番号':\n",
        "        print(key, end='')\n",
        "        print(f'  平均点：{exam_score[key].mean():.01f}',end='')\n",
        "        print(f'  分散：{exam_score[key].var():.02f}',end='')\n",
        "        print(f'  標準偏差：{exam_score[key].std(ddof=0):.02f}')\n"
      ],
      "metadata": {
        "colab": {
          "base_uri": "https://localhost:8080/"
        },
        "id": "cyz7S0Sn8hfO",
        "outputId": "33012c91-e8ed-47f9-d749-6fe8b19c280c"
      },
      "execution_count": 15,
      "outputs": [
        {
          "output_type": "stream",
          "name": "stdout",
          "text": [
            "国語  平均点：64.1  分散：662.84  標準偏差：24.87\n",
            "数学  平均点：55.4  分散：793.54  標準偏差：27.21\n",
            "理科  平均点：56.5  分散：662.12  標準偏差：24.86\n",
            "社会  平均点：64.6  分散：550.40  標準偏差：22.67\n"
          ]
        }
      ]
    },
    {
      "cell_type": "code",
      "source": [
        "## 国語の度数分布図\n",
        "plt.hist(exam_score['国語'], bins=range(0, 101, 10), color='#88F', ec='#00A')\n",
        "plt.title('国語の度数分布図')\n",
        "plt.xlim([0, 100])\n",
        "plt.ylim([0, 10])\n",
        "plt.xlabel('点数')\n",
        "plt.ylabel('度数')\n",
        "plt.show()"
      ],
      "metadata": {
        "colab": {
          "base_uri": "https://localhost:8080/",
          "height": 469
        },
        "id": "OH4UEoUNC7ZI",
        "outputId": "563d6d30-bfab-4026-a306-ef0b05d35c96"
      },
      "execution_count": 16,
      "outputs": [
        {
          "output_type": "display_data",
          "data": {
            "text/plain": [
              "<Figure size 640x480 with 1 Axes>"
            ],
            "image/png": "[encoded data removed]"
          },
          "metadata": {}
        }
      ]
    },
    {
      "cell_type": "code",
      "source": [
        "## 国語の度数分布図\n",
        "plt.hist(exam_score['数学'], bins=range(0, 101, 10), color='#88F', ec='#00A')\n",
        "plt.title('数学の度数分布図')\n",
        "plt.xlim([0, 100])\n",
        "plt.ylim([0, 10])\n",
        "plt.xlabel('点数')\n",
        "plt.ylabel('度数')\n",
        "plt.show()"
      ],
      "metadata": {
        "colab": {
          "base_uri": "https://localhost:8080/",
          "height": 469
        },
        "outputId": "dc59cf07-9622-4a96-d300-12b87df32964",
        "id": "DM4V1p-iDuNX"
      },
      "execution_count": 17,
      "outputs": [
        {
          "output_type": "display_data",
          "data": {
            "text/plain": [
              "<Figure size 640x480 with 1 Axes>"
            ],
            "image/png": "[encoded data removed]"
          },
          "metadata": {}
        }
      ]
    }
  ]
}
